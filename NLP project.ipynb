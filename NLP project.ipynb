{
 "cells": [
  {
   "cell_type": "markdown",
   "metadata": {},
   "source": [
    "# libraries"
   ]
  },
  {
   "cell_type": "code",
   "execution_count": 1,
   "metadata": {
    "execution": {
     "iopub.execute_input": "2025-05-20T21:50:29.915352Z",
     "iopub.status.busy": "2025-05-20T21:50:29.915131Z",
     "iopub.status.idle": "2025-05-20T21:50:58.180117Z",
     "shell.execute_reply": "2025-05-20T21:50:58.179276Z",
     "shell.execute_reply.started": "2025-05-20T21:50:29.915328Z"
    },
    "trusted": true
   },
   "outputs": [
    {
     "name": "stderr",
     "output_type": "stream",
     "text": [
      "c:\\Users\\Mohammed237\\AppData\\Local\\Programs\\Python\\Python311\\Lib\\site-packages\\tqdm\\auto.py:21: TqdmWarning: IProgress not found. Please update jupyter and ipywidgets. See https://ipywidgets.readthedocs.io/en/stable/user_install.html\n",
      "  from .autonotebook import tqdm as notebook_tqdm\n"
     ]
    }
   ],
   "source": [
    "## Standard library imports\n",
    "import os\n",
    "import re\n",
    "import shutil\n",
    "import numpy as np\n",
    "import pandas as pd\n",
    "from typing import List, Tuple, Dict, Any\n",
    "\n",
    "## visualization\n",
    "from tqdm import tqdm\n",
    "import matplotlib.pyplot as plt\n",
    "\n",
    "## preprocessing\n",
    "import nltk\n",
    "from nltk.corpus import stopwords\n",
    "from nltk.tokenize import word_tokenize\n",
    "from nltk.stem import WordNetLemmatizer\n",
    "\n",
    "## Model\n",
    "### Machine Learning\n",
    "from sklearn.svm import LinearSVC\n",
    "from sklearn.ensemble import RandomForestClassifier\n",
    "from sklearn.linear_model import LogisticRegression\n",
    "from sklearn.model_selection import train_test_split\n",
    "from sklearn.feature_extraction.text import TfidfVectorizer\n",
    "from sklearn.metrics import accuracy_score, classification_report, f1_score, precision_recall_fscore_support\n",
    "### Transformers\n",
    "import torch\n",
    "from torch.optim import AdamW\n",
    "from transformers import EarlyStoppingCallback\n",
    "from torch.utils.data import DataLoader, Dataset\n",
    "from transformers import BertTokenizer, BertForSequenceClassification, TrainingArguments, Trainer\n",
    "from transformers import AutoModelForSequenceClassification, Trainer, TrainingArguments"
   ]
  },
  {
   "cell_type": "markdown",
   "metadata": {},
   "source": [
    "# NLTK setup"
   ]
  },
  {
   "cell_type": "code",
   "execution_count": 2,
   "metadata": {
    "execution": {
     "iopub.execute_input": "2025-05-20T21:50:58.182314Z",
     "iopub.status.busy": "2025-05-20T21:50:58.181652Z",
     "iopub.status.idle": "2025-05-20T21:50:58.381244Z",
     "shell.execute_reply": "2025-05-20T21:50:58.380681Z",
     "shell.execute_reply.started": "2025-05-20T21:50:58.182294Z"
    },
    "trusted": true
   },
   "outputs": [
    {
     "name": "stdout",
     "output_type": "stream",
     "text": [
      "✅ NLTK setup completed successfully.\n"
     ]
    }
   ],
   "source": [
    "def download_nltk_resources(resources: List[str]):\n",
    "    for resource in resources:\n",
    "        try:\n",
    "            nltk.download(resource, quiet=True)\n",
    "        except Exception as e:\n",
    "            print(f\"Warning: Failed to download {resource}: {str(e)}\")\n",
    "\n",
    "try:\n",
    "    required_resources = [\n",
    "        'punkt', 'wordnet', 'stopwords', 'averaged_perceptron_tagger'\n",
    "    ]\n",
    "    download_nltk_resources(required_resources)\n",
    "    print(\"✅ NLTK setup completed successfully.\")\n",
    "except Exception as e:\n",
    "    print(f\"❌ Error during NLTK setup: {str(e)}\")\n",
    "    raise"
   ]
  },
  {
   "cell_type": "markdown",
   "metadata": {},
   "source": [
    "# Data"
   ]
  },
  {
   "cell_type": "markdown",
   "metadata": {},
   "source": [
    "## load data"
   ]
  },
  {
   "cell_type": "code",
   "execution_count": 5,
   "metadata": {
    "execution": {
     "iopub.execute_input": "2025-05-20T21:50:58.382429Z",
     "iopub.status.busy": "2025-05-20T21:50:58.382149Z",
     "iopub.status.idle": "2025-05-20T21:50:58.434573Z",
     "shell.execute_reply": "2025-05-20T21:50:58.434071Z",
     "shell.execute_reply.started": "2025-05-20T21:50:58.382405Z"
    },
    "trusted": true
   },
   "outputs": [],
   "source": [
    "# df = pd.read_excel(\"/kaggle/input/movies-reviews-sentiment-data/sentiment_data.xlsx\", engine='openpyxl')\n",
    "df = pd.read_csv(\"NLP_Data/all_reviews.csv\")"
   ]
  },
  {
   "cell_type": "markdown",
   "metadata": {},
   "source": [
    "## data overview"
   ]
  },
  {
   "cell_type": "code",
   "execution_count": 6,
   "metadata": {
    "execution": {
     "iopub.execute_input": "2025-05-20T21:50:58.435481Z",
     "iopub.status.busy": "2025-05-20T21:50:58.435229Z",
     "iopub.status.idle": "2025-05-20T21:50:58.455699Z",
     "shell.execute_reply": "2025-05-20T21:50:58.455095Z",
     "shell.execute_reply.started": "2025-05-20T21:50:58.435463Z"
    },
    "trusted": true
   },
   "outputs": [
    {
     "data": {
      "text/html": [
       "<div>\n",
       "<style scoped>\n",
       "    .dataframe tbody tr th:only-of-type {\n",
       "        vertical-align: middle;\n",
       "    }\n",
       "\n",
       "    .dataframe tbody tr th {\n",
       "        vertical-align: top;\n",
       "    }\n",
       "\n",
       "    .dataframe thead th {\n",
       "        text-align: right;\n",
       "    }\n",
       "</style>\n",
       "<table border=\"1\" class=\"dataframe\">\n",
       "  <thead>\n",
       "    <tr style=\"text-align: right;\">\n",
       "      <th></th>\n",
       "      <th>review</th>\n",
       "      <th>label</th>\n",
       "    </tr>\n",
       "  </thead>\n",
       "  <tbody>\n",
       "    <tr>\n",
       "      <th>0</th>\n",
       "      <td>simplistic , silly and tedious .</td>\n",
       "      <td>0</td>\n",
       "    </tr>\n",
       "    <tr>\n",
       "      <th>1</th>\n",
       "      <td>it's so laddish and juvenile , only teenage bo...</td>\n",
       "      <td>0</td>\n",
       "    </tr>\n",
       "    <tr>\n",
       "      <th>2</th>\n",
       "      <td>exploitative and largely devoid of the depth o...</td>\n",
       "      <td>0</td>\n",
       "    </tr>\n",
       "    <tr>\n",
       "      <th>3</th>\n",
       "      <td>[garbus] discards the potential for pathologic...</td>\n",
       "      <td>0</td>\n",
       "    </tr>\n",
       "    <tr>\n",
       "      <th>4</th>\n",
       "      <td>a visually flashy but narratively opaque and e...</td>\n",
       "      <td>0</td>\n",
       "    </tr>\n",
       "    <tr>\n",
       "      <th>5</th>\n",
       "      <td>the story is also as unoriginal as they come ,...</td>\n",
       "      <td>0</td>\n",
       "    </tr>\n",
       "    <tr>\n",
       "      <th>6</th>\n",
       "      <td>about the only thing to give the movie points ...</td>\n",
       "      <td>0</td>\n",
       "    </tr>\n",
       "    <tr>\n",
       "      <th>7</th>\n",
       "      <td>not so much farcical as sour .</td>\n",
       "      <td>0</td>\n",
       "    </tr>\n",
       "    <tr>\n",
       "      <th>8</th>\n",
       "      <td>unfortunately the story and the actors are ser...</td>\n",
       "      <td>0</td>\n",
       "    </tr>\n",
       "    <tr>\n",
       "      <th>9</th>\n",
       "      <td>all the more disquieting for its relatively go...</td>\n",
       "      <td>0</td>\n",
       "    </tr>\n",
       "  </tbody>\n",
       "</table>\n",
       "</div>"
      ],
      "text/plain": [
       "                                              review  label\n",
       "0                   simplistic , silly and tedious .      0\n",
       "1  it's so laddish and juvenile , only teenage bo...      0\n",
       "2  exploitative and largely devoid of the depth o...      0\n",
       "3  [garbus] discards the potential for pathologic...      0\n",
       "4  a visually flashy but narratively opaque and e...      0\n",
       "5  the story is also as unoriginal as they come ,...      0\n",
       "6  about the only thing to give the movie points ...      0\n",
       "7                     not so much farcical as sour .      0\n",
       "8  unfortunately the story and the actors are ser...      0\n",
       "9  all the more disquieting for its relatively go...      0"
      ]
     },
     "execution_count": 6,
     "metadata": {},
     "output_type": "execute_result"
    }
   ],
   "source": [
    "df.head(10)"
   ]
  },
  {
   "cell_type": "code",
   "execution_count": 7,
   "metadata": {
    "execution": {
     "iopub.execute_input": "2025-05-20T21:50:58.456699Z",
     "iopub.status.busy": "2025-05-20T21:50:58.456503Z",
     "iopub.status.idle": "2025-05-20T21:50:58.461443Z",
     "shell.execute_reply": "2025-05-20T21:50:58.460876Z",
     "shell.execute_reply.started": "2025-05-20T21:50:58.456684Z"
    },
    "trusted": true
   },
   "outputs": [
    {
     "data": {
      "text/plain": [
       "(10662, 2)"
      ]
     },
     "execution_count": 7,
     "metadata": {},
     "output_type": "execute_result"
    }
   ],
   "source": [
    "df.shape"
   ]
  },
  {
   "cell_type": "markdown",
   "metadata": {},
   "source": [
    "the shape of the data is **``(10662, 2)``**"
   ]
  },
  {
   "cell_type": "code",
   "execution_count": 8,
   "metadata": {},
   "outputs": [
    {
     "data": {
      "text/plain": [
       "label\n",
       "0    5331\n",
       "1    5331\n",
       "Name: count, dtype: int64"
      ]
     },
     "execution_count": 8,
     "metadata": {},
     "output_type": "execute_result"
    }
   ],
   "source": [
    "df.label.value_counts()"
   ]
  },
  {
   "cell_type": "code",
   "execution_count": 6,
   "metadata": {
    "execution": {
     "iopub.execute_input": "2025-05-20T21:50:58.464151Z",
     "iopub.status.busy": "2025-05-20T21:50:58.463572Z",
     "iopub.status.idle": "2025-05-20T21:50:58.495350Z",
     "shell.execute_reply": "2025-05-20T21:50:58.494520Z",
     "shell.execute_reply.started": "2025-05-20T21:50:58.464132Z"
    },
    "trusted": true
   },
   "outputs": [
    {
     "name": "stdout",
     "output_type": "stream",
     "text": [
      "<class 'pandas.core.frame.DataFrame'>\n",
      "RangeIndex: 10662 entries, 0 to 10661\n",
      "Data columns (total 2 columns):\n",
      " #   Column  Non-Null Count  Dtype \n",
      "---  ------  --------------  ----- \n",
      " 0   review  10662 non-null  object\n",
      " 1   label   10662 non-null  int64 \n",
      "dtypes: int64(1), object(1)\n",
      "memory usage: 166.7+ KB\n"
     ]
    }
   ],
   "source": [
    "df.info()"
   ]
  },
  {
   "cell_type": "code",
   "execution_count": 7,
   "metadata": {
    "execution": {
     "iopub.execute_input": "2025-05-20T21:50:58.496747Z",
     "iopub.status.busy": "2025-05-20T21:50:58.496416Z",
     "iopub.status.idle": "2025-05-20T21:50:58.512981Z",
     "shell.execute_reply": "2025-05-20T21:50:58.512335Z",
     "shell.execute_reply.started": "2025-05-20T21:50:58.496717Z"
    },
    "trusted": true
   },
   "outputs": [
    {
     "data": {
      "text/plain": [
       "review    0\n",
       "label     0\n",
       "dtype: int64"
      ]
     },
     "execution_count": 7,
     "metadata": {},
     "output_type": "execute_result"
    }
   ],
   "source": [
    "df.isnull().sum()"
   ]
  },
  {
   "cell_type": "markdown",
   "metadata": {},
   "source": [
    "there are no nulls in the data"
   ]
  },
  {
   "cell_type": "code",
   "execution_count": 8,
   "metadata": {
    "execution": {
     "iopub.execute_input": "2025-05-20T21:50:58.513846Z",
     "iopub.status.busy": "2025-05-20T21:50:58.513580Z",
     "iopub.status.idle": "2025-05-20T21:50:58.534089Z",
     "shell.execute_reply": "2025-05-20T21:50:58.533461Z",
     "shell.execute_reply.started": "2025-05-20T21:50:58.513822Z"
    },
    "trusted": true
   },
   "outputs": [
    {
     "data": {
      "text/plain": [
       "0"
      ]
     },
     "execution_count": 8,
     "metadata": {},
     "output_type": "execute_result"
    }
   ],
   "source": [
    "df.duplicated().sum()"
   ]
  },
  {
   "cell_type": "code",
   "execution_count": 9,
   "metadata": {
    "execution": {
     "iopub.execute_input": "2025-05-20T21:50:58.534992Z",
     "iopub.status.busy": "2025-05-20T21:50:58.534800Z",
     "iopub.status.idle": "2025-05-20T21:50:59.224137Z",
     "shell.execute_reply": "2025-05-20T21:50:59.223494Z",
     "shell.execute_reply.started": "2025-05-20T21:50:58.534979Z"
    },
    "trusted": true
   },
   "outputs": [
    {
     "data": {
      "image/png": "[encoded data removed]",
      "text/plain": [
       "<Figure size 1000x500 with 1 Axes>"
      ]
     },
     "metadata": {},
     "output_type": "display_data"
    },
    {
     "name": "stdout",
     "output_type": "stream",
     "text": [
      "Max length: 59\n",
      "Min length: 1\n",
      "Average length: 21.0\n",
      "Reviews > 128 words: 0.0%\n"
     ]
    }
   ],
   "source": [
    "# Calculate text lengths\n",
    "df['text_length'] = df['review'].apply(lambda x: len(x.split()))\n",
    "\n",
    "# Plot distribution\n",
    "plt.figure(figsize=(10,5))\n",
    "plt.hist(df['text_length'], bins=50, color='skyblue')\n",
    "plt.axvline(x=128, color='red', linestyle='--', label='BERT max length')\n",
    "plt.title('Review Length Distribution')\n",
    "plt.xlabel('Word Count')\n",
    "plt.ylabel('Frequency')\n",
    "plt.legend()\n",
    "plt.show()\n",
    "\n",
    "# Show statistics\n",
    "print(f\"Max length: {df['text_length'].max()}\")\n",
    "print(f\"Min length: {df['text_length'].min()}\")\n",
    "print(f\"Average length: {df['text_length'].mean():.1f}\")\n",
    "print(f\"Reviews > 128 words: {len(df[df['text_length']>128])/len(df):.1%}\")"
   ]
  },
  {
   "cell_type": "markdown",
   "metadata": {},
   "source": [
    "# Preprocessing"
   ]
  },
  {
   "cell_type": "markdown",
   "metadata": {},
   "source": [
    "## normal preprocessing"
   ]
  },
  {
   "cell_type": "markdown",
   "metadata": {},
   "source": [
    "## handle duplicates"
   ]
  },
  {
   "cell_type": "code",
   "execution_count": 10,
   "metadata": {
    "execution": {
     "iopub.execute_input": "2025-05-20T21:50:59.225318Z",
     "iopub.status.busy": "2025-05-20T21:50:59.225102Z",
     "iopub.status.idle": "2025-05-20T21:50:59.233542Z",
     "shell.execute_reply": "2025-05-20T21:50:59.232940Z",
     "shell.execute_reply.started": "2025-05-20T21:50:59.225302Z"
    },
    "trusted": true
   },
   "outputs": [],
   "source": [
    "df.drop_duplicates(inplace=True)"
   ]
  },
  {
   "cell_type": "markdown",
   "metadata": {},
   "source": [
    "## text preprocessing"
   ]
  },
  {
   "cell_type": "markdown",
   "metadata": {},
   "source": [
    "### clean text"
   ]
  },
  {
   "cell_type": "code",
   "execution_count": 11,
   "metadata": {
    "execution": {
     "iopub.execute_input": "2025-05-20T21:50:59.234618Z",
     "iopub.status.busy": "2025-05-20T21:50:59.234373Z",
     "iopub.status.idle": "2025-05-20T21:50:59.243883Z",
     "shell.execute_reply": "2025-05-20T21:50:59.243283Z",
     "shell.execute_reply.started": "2025-05-20T21:50:59.234597Z"
    },
    "trusted": true
   },
   "outputs": [],
   "source": [
    "def clean_text(text: str) -> str:\n",
    "    # Remove URLs\n",
    "    text = re.sub(r'http\\S+|www\\S+|https\\S+', '', text, flags=re.MULTILINE)\n",
    "    # Remove special characters and numbers\n",
    "    text = re.sub(r'[^\\w\\s]', '', text)\n",
    "    # Remove extra whitespace\n",
    "    text = re.sub(r'\\s+', ' ', text).strip()\n",
    "    return text"
   ]
  },
  {
   "cell_type": "markdown",
   "metadata": {},
   "source": [
    "### stop words removal"
   ]
  },
  {
   "cell_type": "code",
   "execution_count": 12,
   "metadata": {
    "execution": {
     "iopub.execute_input": "2025-05-20T21:50:59.244612Z",
     "iopub.status.busy": "2025-05-20T21:50:59.244447Z",
     "iopub.status.idle": "2025-05-20T21:50:59.260141Z",
     "shell.execute_reply": "2025-05-20T21:50:59.259565Z",
     "shell.execute_reply.started": "2025-05-20T21:50:59.244600Z"
    },
    "trusted": true
   },
   "outputs": [],
   "source": [
    "def remove_stopwords(text: str) -> str:\n",
    "    # Define stop words and keep important sentiment-related words\n",
    "    stop_words = set(stopwords.words('english'))\n",
    "    important_words = {\n",
    "        'not', 'no', 'never', 'very', 'really', 'too', 'so', \n",
    "        'much', 'many', 'few', 'little', 'hardly', 'barely', 'scarcely'\n",
    "    }\n",
    "    stop_words -= important_words\n",
    "\n",
    "    # Use regex to remove stopwords while preserving spacing\n",
    "    # Create a pattern to match whole stopwords only\n",
    "    pattern = r'\\b(?:' + '|'.join(re.escape(word) for word in stop_words) + r')\\b'\n",
    "    \n",
    "    # Remove stopwords (replace them with space)\n",
    "    cleaned_text = re.sub(pattern, '', text, flags=re.IGNORECASE)\n",
    "\n",
    "    # Remove extra spaces\n",
    "    cleaned_text = re.sub(r'\\s+', ' ', cleaned_text).strip()\n",
    "    \n",
    "    return cleaned_text"
   ]
  },
  {
   "cell_type": "markdown",
   "metadata": {},
   "source": [
    "### repeated character"
   ]
  },
  {
   "cell_type": "code",
   "execution_count": 13,
   "metadata": {
    "execution": {
     "iopub.execute_input": "2025-05-20T21:50:59.260942Z",
     "iopub.status.busy": "2025-05-20T21:50:59.260770Z",
     "iopub.status.idle": "2025-05-20T21:50:59.276537Z",
     "shell.execute_reply": "2025-05-20T21:50:59.275869Z",
     "shell.execute_reply.started": "2025-05-20T21:50:59.260929Z"
    },
    "trusted": true
   },
   "outputs": [],
   "source": [
    "def normalize_repeated_chars(text):\n",
    "    return re.sub(r'(.)\\1{2,}', r'\\1\\1', text)"
   ]
  },
  {
   "cell_type": "markdown",
   "metadata": {},
   "source": [
    "### remove duplicate words"
   ]
  },
  {
   "cell_type": "code",
   "execution_count": 14,
   "metadata": {
    "execution": {
     "iopub.execute_input": "2025-05-20T21:50:59.277377Z",
     "iopub.status.busy": "2025-05-20T21:50:59.277194Z",
     "iopub.status.idle": "2025-05-20T21:50:59.292803Z",
     "shell.execute_reply": "2025-05-20T21:50:59.292121Z",
     "shell.execute_reply.started": "2025-05-20T21:50:59.277364Z"
    },
    "trusted": true
   },
   "outputs": [],
   "source": [
    "def remove_duplicate_ngrams_multi(text, max_n=3):\n",
    "    words = text.split()\n",
    "    i = 0\n",
    "    result = []\n",
    "    seen = set()\n",
    "\n",
    "    while i < len(words):\n",
    "        matched = False\n",
    "        for n in range(max_n, 0, -1):\n",
    "            if i + n <= len(words):\n",
    "                ngram = tuple(words[i:i + n])\n",
    "                if ngram not in seen:\n",
    "                    seen.add(ngram)\n",
    "                    result.extend(ngram)\n",
    "                    i += n\n",
    "                    matched = True\n",
    "                    break  # break inner loop if match found\n",
    "        if not matched:\n",
    "            # if no match (e.g., remaining words < max_n), just add word\n",
    "            result.append(words[i])\n",
    "            i += 1\n",
    "    return ' '.join(result)"
   ]
  },
  {
   "cell_type": "markdown",
   "metadata": {},
   "source": [
    "### lemmatization"
   ]
  },
  {
   "cell_type": "code",
   "execution_count": 15,
   "metadata": {
    "execution": {
     "iopub.execute_input": "2025-05-20T21:50:59.293712Z",
     "iopub.status.busy": "2025-05-20T21:50:59.293514Z",
     "iopub.status.idle": "2025-05-20T21:50:59.313371Z",
     "shell.execute_reply": "2025-05-20T21:50:59.312735Z",
     "shell.execute_reply.started": "2025-05-20T21:50:59.293697Z"
    },
    "trusted": true
   },
   "outputs": [],
   "source": [
    "lemmatizer = WordNetLemmatizer()"
   ]
  },
  {
   "cell_type": "code",
   "execution_count": 16,
   "metadata": {
    "execution": {
     "iopub.execute_input": "2025-05-20T21:50:59.314365Z",
     "iopub.status.busy": "2025-05-20T21:50:59.314126Z",
     "iopub.status.idle": "2025-05-20T21:50:59.327960Z",
     "shell.execute_reply": "2025-05-20T21:50:59.327223Z",
     "shell.execute_reply.started": "2025-05-20T21:50:59.314345Z"
    },
    "trusted": true
   },
   "outputs": [],
   "source": [
    "def lemmatize_text(text: str) -> str:\n",
    "    words = word_tokenize(text)\n",
    "    return ' '.join([lemmatizer.lemmatize(word) for word in words])"
   ]
  },
  {
   "cell_type": "markdown",
   "metadata": {},
   "source": [
    "### text process"
   ]
  },
  {
   "cell_type": "code",
   "execution_count": 17,
   "metadata": {
    "execution": {
     "iopub.execute_input": "2025-05-20T21:50:59.329051Z",
     "iopub.status.busy": "2025-05-20T21:50:59.328676Z",
     "iopub.status.idle": "2025-05-20T21:50:59.342878Z",
     "shell.execute_reply": "2025-05-20T21:50:59.342271Z",
     "shell.execute_reply.started": "2025-05-20T21:50:59.329023Z"
    },
    "trusted": true
   },
   "outputs": [],
   "source": [
    "def preprocess_text(text: str) -> str:\n",
    "    # lower case\n",
    "    text = text.lower()\n",
    "    # clean text\n",
    "    text = clean_text(text)\n",
    "    # remove repeated chars\n",
    "    text = normalize_repeated_chars(text)\n",
    "    # Remove duplicate n-grams\n",
    "    for n in range(3, 0, -1):\n",
    "        text = remove_duplicate_ngrams_multi(text, max_n=n)\n",
    "    # stop words removal\n",
    "    text = remove_stopwords(text)\n",
    "    # lemmatization\n",
    "    text = lemmatize_text(text)\n",
    "    return text"
   ]
  },
  {
   "cell_type": "markdown",
   "metadata": {},
   "source": [
    "## Apply text preprocessing"
   ]
  },
  {
   "cell_type": "code",
   "execution_count": 18,
   "metadata": {
    "execution": {
     "iopub.execute_input": "2025-05-20T21:50:59.346152Z",
     "iopub.status.busy": "2025-05-20T21:50:59.345962Z",
     "iopub.status.idle": "2025-05-20T21:51:07.282291Z",
     "shell.execute_reply": "2025-05-20T21:51:07.281524Z",
     "shell.execute_reply.started": "2025-05-20T21:50:59.346138Z"
    },
    "trusted": true
   },
   "outputs": [],
   "source": [
    "df['processed_text'] = df['review'].apply(preprocess_text)"
   ]
  },
  {
   "cell_type": "code",
   "execution_count": 19,
   "metadata": {
    "execution": {
     "iopub.execute_input": "2025-05-20T21:51:07.283353Z",
     "iopub.status.busy": "2025-05-20T21:51:07.283094Z",
     "iopub.status.idle": "2025-05-20T21:51:07.287974Z",
     "shell.execute_reply": "2025-05-20T21:51:07.287424Z",
     "shell.execute_reply.started": "2025-05-20T21:51:07.283329Z"
    },
    "trusted": true
   },
   "outputs": [
    {
     "name": "stdout",
     "output_type": "stream",
     "text": [
      "original text: simplistic , silly and tedious .\n",
      "----------------------\n",
      "processed text: simplistic silly tedious\n"
     ]
    }
   ],
   "source": [
    "num_of_sample = 0\n",
    "print(f\"original text: {df['review'][num_of_sample]}\")\n",
    "print('----------------------')\n",
    "print(f\"processed text: {df['processed_text'][num_of_sample]}\")"
   ]
  },
  {
   "cell_type": "markdown",
   "metadata": {},
   "source": [
    "## handle long text reviews"
   ]
  },
  {
   "cell_type": "markdown",
   "metadata": {},
   "source": [
    "### truncation"
   ]
  },
  {
   "cell_type": "code",
   "execution_count": 20,
   "metadata": {
    "execution": {
     "iopub.execute_input": "2025-05-20T21:51:07.289026Z",
     "iopub.status.busy": "2025-05-20T21:51:07.288744Z",
     "iopub.status.idle": "2025-05-20T21:51:07.303195Z",
     "shell.execute_reply": "2025-05-20T21:51:07.302538Z",
     "shell.execute_reply.started": "2025-05-20T21:51:07.289005Z"
    },
    "trusted": true
   },
   "outputs": [],
   "source": [
    "max_length = 512"
   ]
  },
  {
   "cell_type": "code",
   "execution_count": 21,
   "metadata": {
    "execution": {
     "iopub.execute_input": "2025-05-20T21:51:07.304186Z",
     "iopub.status.busy": "2025-05-20T21:51:07.303940Z",
     "iopub.status.idle": "2025-05-20T21:51:07.317553Z",
     "shell.execute_reply": "2025-05-20T21:51:07.317032Z",
     "shell.execute_reply.started": "2025-05-20T21:51:07.304163Z"
    },
    "trusted": true
   },
   "outputs": [],
   "source": [
    "def preprocess_data(examples):\n",
    "    # Tokenize with truncation\n",
    "    return tokenizer(examples[\"processed_text\"], padding=\"max_length\", truncation=True, max_length=max_length)"
   ]
  },
  {
   "cell_type": "code",
   "execution_count": null,
   "metadata": {
    "trusted": true
   },
   "outputs": [],
   "source": []
  },
  {
   "cell_type": "code",
   "execution_count": 22,
   "metadata": {
    "execution": {
     "iopub.execute_input": "2025-05-20T21:51:07.318498Z",
     "iopub.status.busy": "2025-05-20T21:51:07.318260Z",
     "iopub.status.idle": "2025-05-20T21:51:07.333335Z",
     "shell.execute_reply": "2025-05-20T21:51:07.332670Z",
     "shell.execute_reply.started": "2025-05-20T21:51:07.318479Z"
    },
    "trusted": true
   },
   "outputs": [],
   "source": [
    "texts = df['processed_text'].tolist()\n",
    "labels = df['label'].tolist()"
   ]
  },
  {
   "cell_type": "markdown",
   "metadata": {},
   "source": [
    "# Models"
   ]
  },
  {
   "cell_type": "markdown",
   "metadata": {},
   "source": [
    "## ML approach"
   ]
  },
  {
   "cell_type": "markdown",
   "metadata": {},
   "source": [
    "### split data"
   ]
  },
  {
   "cell_type": "code",
   "execution_count": 23,
   "metadata": {
    "execution": {
     "iopub.execute_input": "2025-05-20T21:51:07.334204Z",
     "iopub.status.busy": "2025-05-20T21:51:07.333971Z",
     "iopub.status.idle": "2025-05-20T21:51:07.710136Z",
     "shell.execute_reply": "2025-05-20T21:51:07.709541Z",
     "shell.execute_reply.started": "2025-05-20T21:51:07.334191Z"
    },
    "trusted": true
   },
   "outputs": [],
   "source": [
    "vectorizer = TfidfVectorizer(stop_words='english', ngram_range=(1, 2))\n",
    "X = vectorizer.fit_transform(texts)\n",
    "X_train, X_test, y_train, y_test = train_test_split(X, labels, test_size=0.2, random_state=42)"
   ]
  },
  {
   "cell_type": "markdown",
   "metadata": {},
   "source": [
    "### train"
   ]
  },
  {
   "cell_type": "code",
   "execution_count": 24,
   "metadata": {
    "execution": {
     "iopub.execute_input": "2025-05-20T21:51:07.711059Z",
     "iopub.status.busy": "2025-05-20T21:51:07.710815Z",
     "iopub.status.idle": "2025-05-20T21:52:26.824700Z",
     "shell.execute_reply": "2025-05-20T21:52:26.824016Z",
     "shell.execute_reply.started": "2025-05-20T21:51:07.711037Z"
    },
    "trusted": true
   },
   "outputs": [
    {
     "name": "stdout",
     "output_type": "stream",
     "text": [
      "\n",
      "Training Logistic Regression...\n",
      "\n",
      "Training Linear SVC...\n",
      "\n",
      "Training Random Forest...\n",
      "All models trained\n"
     ]
    }
   ],
   "source": [
    "models = {\n",
    "    'Logistic Regression': LogisticRegression(),\n",
    "    'Linear SVC': LinearSVC(),\n",
    "    'Random Forest': RandomForestClassifier(n_estimators=100, random_state=42)\n",
    "}\n",
    "\n",
    "for name, model in models.items():\n",
    "    print(f\"\\nTraining {name}...\")\n",
    "    model.fit(X_train, y_train)\n",
    "    # y_pred = model.predict(X_test)\n",
    "    # print(f\"\\n{name} Classification Report:\")\n",
    "    # print(classification_report(y_test, y_pred, target_names=[\"Negative\", \"Positive\"]))\n",
    "\n",
    "print(\"All models trained\")"
   ]
  },
  {
   "cell_type": "markdown",
   "metadata": {},
   "source": [
    "### evaluate"
   ]
  },
  {
   "cell_type": "code",
   "execution_count": 25,
   "metadata": {
    "execution": {
     "iopub.execute_input": "2025-05-20T21:52:26.826306Z",
     "iopub.status.busy": "2025-05-20T21:52:26.825528Z",
     "iopub.status.idle": "2025-05-20T21:52:27.188002Z",
     "shell.execute_reply": "2025-05-20T21:52:27.187244Z",
     "shell.execute_reply.started": "2025-05-20T21:52:26.826284Z"
    },
    "trusted": true
   },
   "outputs": [
    {
     "name": "stdout",
     "output_type": "stream",
     "text": [
      "\n",
      "Logistic Regression Classification Report:\n",
      "              precision    recall  f1-score   support\n",
      "\n",
      "    Negative       0.72      0.76      0.74      1062\n",
      "    Positive       0.75      0.71      0.73      1071\n",
      "\n",
      "    accuracy                           0.73      2133\n",
      "   macro avg       0.74      0.73      0.73      2133\n",
      "weighted avg       0.74      0.73      0.73      2133\n",
      "\n",
      "\n",
      "Linear SVC Classification Report:\n",
      "              precision    recall  f1-score   support\n",
      "\n",
      "    Negative       0.74      0.77      0.76      1062\n",
      "    Positive       0.76      0.74      0.75      1071\n",
      "\n",
      "    accuracy                           0.75      2133\n",
      "   macro avg       0.75      0.75      0.75      2133\n",
      "weighted avg       0.75      0.75      0.75      2133\n",
      "\n",
      "\n",
      "Random Forest Classification Report:\n",
      "              precision    recall  f1-score   support\n",
      "\n",
      "    Negative       0.66      0.82      0.73      1062\n",
      "    Positive       0.77      0.58      0.66      1071\n",
      "\n",
      "    accuracy                           0.70      2133\n",
      "   macro avg       0.71      0.70      0.70      2133\n",
      "weighted avg       0.71      0.70      0.70      2133\n",
      "\n"
     ]
    }
   ],
   "source": [
    "for name, model in models.items():\n",
    "    y_pred = model.predict(X_test)\n",
    "    print(f\"\\n{name} Classification Report:\")\n",
    "    print(classification_report(y_test, y_pred, target_names=[\"Negative\", \"Positive\"]))"
   ]
  },
  {
   "cell_type": "markdown",
   "metadata": {},
   "source": [
    "## BERT Model"
   ]
  },
  {
   "cell_type": "markdown",
   "metadata": {},
   "source": [
    "### parameters"
   ]
  },
  {
   "cell_type": "code",
   "execution_count": 26,
   "metadata": {
    "execution": {
     "iopub.execute_input": "2025-05-20T21:52:27.189524Z",
     "iopub.status.busy": "2025-05-20T21:52:27.188824Z",
     "iopub.status.idle": "2025-05-20T21:52:27.193582Z",
     "shell.execute_reply": "2025-05-20T21:52:27.192897Z",
     "shell.execute_reply.started": "2025-05-20T21:52:27.189499Z"
    },
    "trusted": true
   },
   "outputs": [],
   "source": [
    "device = torch.device(\"cuda\" if torch.cuda.is_available() else \"cpu\")\n",
    "BATCH_SIZE = 16         # batch size\n",
    "MAX_LENGTH = 128        # max length of the input text\n",
    "LEARNING_RATE = 2e-5    # learning rate (reduced from 5e-5 for better stability)\n",
    "NUM_EPOCHS = 10         # number of epochs\n",
    "PATIENCE = 2            # early stopping\n",
    "LOGGING_STEPS = 50      # log training metrics every N steps"
   ]
  },
  {
   "cell_type": "markdown",
   "metadata": {},
   "source": [
    "### load tokenizer"
   ]
  },
  {
   "cell_type": "code",
   "execution_count": 27,
   "metadata": {
    "execution": {
     "iopub.execute_input": "2025-05-20T21:52:27.194545Z",
     "iopub.status.busy": "2025-05-20T21:52:27.194305Z",
     "iopub.status.idle": "2025-05-20T21:52:28.643779Z",
     "shell.execute_reply": "2025-05-20T21:52:28.642960Z",
     "shell.execute_reply.started": "2025-05-20T21:52:27.194519Z"
    },
    "trusted": true
   },
   "outputs": [
    {
     "data": {
      "application/vnd.jupyter.widget-view+json": {
       "model_id": "2d9a76c5c6ae4fb99e8682f0b98f25cd",
       "version_major": 2,
       "version_minor": 0
      },
      "text/plain": [
       "tokenizer_config.json:   0%|          | 0.00/48.0 [00:00<?, ?B/s]"
      ]
     },
     "metadata": {},
     "output_type": "display_data"
    },
    {
     "data": {
      "application/vnd.jupyter.widget-view+json": {
       "model_id": "3d4d1f928e584e24be35b49c63746157",
       "version_major": 2,
       "version_minor": 0
      },
      "text/plain": [
       "vocab.txt:   0%|          | 0.00/232k [00:00<?, ?B/s]"
      ]
     },
     "metadata": {},
     "output_type": "display_data"
    },
    {
     "data": {
      "application/vnd.jupyter.widget-view+json": {
       "model_id": "625995979c69429bb9e4d0fe39fe84e5",
       "version_major": 2,
       "version_minor": 0
      },
      "text/plain": [
       "special_tokens_map.json:   0%|          | 0.00/112 [00:00<?, ?B/s]"
      ]
     },
     "metadata": {},
     "output_type": "display_data"
    },
    {
     "data": {
      "application/vnd.jupyter.widget-view+json": {
       "model_id": "86c9253f83144b21b3c032da6db9e7e8",
       "version_major": 2,
       "version_minor": 0
      },
      "text/plain": [
       "config.json:   0%|          | 0.00/477 [00:00<?, ?B/s]"
      ]
     },
     "metadata": {},
     "output_type": "display_data"
    }
   ],
   "source": [
    "tokenizer = BertTokenizer.from_pretrained(\"textattack/bert-base-uncased-SST-2\")"
   ]
  },
  {
   "cell_type": "markdown",
   "metadata": {},
   "source": [
    "### load model"
   ]
  },
  {
   "cell_type": "code",
   "execution_count": 28,
   "metadata": {
    "execution": {
     "iopub.execute_input": "2025-05-20T21:52:28.644850Z",
     "iopub.status.busy": "2025-05-20T21:52:28.644609Z",
     "iopub.status.idle": "2025-05-20T21:52:31.588277Z",
     "shell.execute_reply": "2025-05-20T21:52:31.587675Z",
     "shell.execute_reply.started": "2025-05-20T21:52:28.644834Z"
    },
    "trusted": true
   },
   "outputs": [
    {
     "data": {
      "application/vnd.jupyter.widget-view+json": {
       "model_id": "df3ca23d7e2a45b5ae4c8bb5dd39e9f2",
       "version_major": 2,
       "version_minor": 0
      },
      "text/plain": [
       "pytorch_model.bin:   0%|          | 0.00/438M [00:00<?, ?B/s]"
      ]
     },
     "metadata": {},
     "output_type": "display_data"
    }
   ],
   "source": [
    "model = BertForSequenceClassification.from_pretrained(\n",
    "    \"textattack/bert-base-uncased-SST-2\",\n",
    "    num_labels=2\n",
    ").to(device)"
   ]
  },
  {
   "cell_type": "markdown",
   "metadata": {},
   "source": [
    "### prepare data"
   ]
  },
  {
   "cell_type": "code",
   "execution_count": 29,
   "metadata": {
    "execution": {
     "iopub.execute_input": "2025-05-20T21:52:31.589616Z",
     "iopub.status.busy": "2025-05-20T21:52:31.589097Z",
     "iopub.status.idle": "2025-05-20T21:52:31.594878Z",
     "shell.execute_reply": "2025-05-20T21:52:31.594202Z",
     "shell.execute_reply.started": "2025-05-20T21:52:31.589592Z"
    },
    "trusted": true
   },
   "outputs": [],
   "source": [
    "class ReviewDataset(Dataset):\n",
    "    def __init__(self, texts: List[str], labels: List[int], tokenizer: BertTokenizer):\n",
    "        self.encodings = tokenizer(\n",
    "            texts,\n",
    "            padding='longest',\n",
    "            truncation=True,\n",
    "            max_length=MAX_LENGTH,\n",
    "            return_tensors=\"pt\"\n",
    "        )\n",
    "        self.labels = torch.tensor(labels)\n",
    "\n",
    "    def __getitem__(self, idx: int) -> Dict[str, torch.Tensor]:\n",
    "        item = {key: val[idx] for key, val in self.encodings.items()}\n",
    "        item[\"labels\"] = self.labels[idx]\n",
    "        return item\n",
    "\n",
    "    def __len__(self) -> int:\n",
    "        return len(self.labels)"
   ]
  },
  {
   "cell_type": "code",
   "execution_count": 30,
   "metadata": {
    "execution": {
     "iopub.execute_input": "2025-05-20T21:52:31.595621Z",
     "iopub.status.busy": "2025-05-20T21:52:31.595448Z",
     "iopub.status.idle": "2025-05-20T21:52:35.056365Z",
     "shell.execute_reply": "2025-05-20T21:52:35.055609Z",
     "shell.execute_reply.started": "2025-05-20T21:52:31.595607Z"
    },
    "trusted": true
   },
   "outputs": [
    {
     "data": {
      "application/vnd.jupyter.widget-view+json": {
       "model_id": "0e5ce615e1f94edf903be03d1c6527d9",
       "version_major": 2,
       "version_minor": 0
      },
      "text/plain": [
       "model.safetensors:   0%|          | 0.00/438M [00:00<?, ?B/s]"
      ]
     },
     "metadata": {},
     "output_type": "display_data"
    },
    {
     "name": "stdout",
     "output_type": "stream",
     "text": [
      "train shape:  7463\n",
      "train shape:  1599\n",
      "train shape:  1600\n"
     ]
    }
   ],
   "source": [
    "train_texts, temp_texts, train_labels, temp_labels = train_test_split(texts, labels, test_size=0.3, random_state=42)\n",
    "val_texts, test_texts, val_labels, test_labels = train_test_split(temp_texts, temp_labels, test_size=0.5, random_state=42)\n",
    "\n",
    "train_dataset = ReviewDataset(train_texts, train_labels, tokenizer)\n",
    "val_dataset = ReviewDataset(val_texts, val_labels, tokenizer)\n",
    "test_dataset = ReviewDataset(test_texts, test_labels, tokenizer)\n",
    "\n",
    "# train_loader = DataLoader(train_dataset, batch_size=BATCH_SIZE, shuffle=True)\n",
    "# val_loader = DataLoader(val_dataset, batch_size=BATCH_SIZE)\n",
    "# test_loader = DataLoader(test_dataset, batch_size=BATCH_SIZE)\n",
    "\n",
    "print(\"train shape: \", train_dataset.__len__())\n",
    "print(\"train shape: \", val_dataset.__len__())\n",
    "print(\"train shape: \", test_dataset.__len__())"
   ]
  },
  {
   "cell_type": "markdown",
   "metadata": {},
   "source": [
    "### Training"
   ]
  },
  {
   "cell_type": "code",
   "execution_count": 31,
   "metadata": {
    "execution": {
     "iopub.execute_input": "2025-05-20T21:52:35.057599Z",
     "iopub.status.busy": "2025-05-20T21:52:35.057392Z",
     "iopub.status.idle": "2025-05-20T21:52:35.062528Z",
     "shell.execute_reply": "2025-05-20T21:52:35.061775Z",
     "shell.execute_reply.started": "2025-05-20T21:52:35.057583Z"
    },
    "trusted": true
   },
   "outputs": [],
   "source": [
    "optimizer = AdamW(model.parameters(), lr=LEARNING_RATE)\n",
    "# Loss function\n",
    "loss_fn = torch.nn.CrossEntropyLoss()\n",
    "\n",
    "best_val_accuracy = 0\n",
    "patience_counter = 0"
   ]
  },
  {
   "cell_type": "code",
   "execution_count": 32,
   "metadata": {
    "execution": {
     "iopub.execute_input": "2025-05-20T21:52:35.063733Z",
     "iopub.status.busy": "2025-05-20T21:52:35.063365Z",
     "iopub.status.idle": "2025-05-20T21:52:35.148550Z",
     "shell.execute_reply": "2025-05-20T21:52:35.147682Z",
     "shell.execute_reply.started": "2025-05-20T21:52:35.063698Z"
    },
    "trusted": true
   },
   "outputs": [],
   "source": [
    "def compute_metrics(pred):\n",
    "    labels = pred.label_ids\n",
    "    preds = pred.predictions.argmax(-1)\n",
    "    acc = accuracy_score(labels, preds)\n",
    "    precision, recall, f1, _ = precision_recall_fscore_support(labels, preds, average='weighted')\n",
    "    return {\n",
    "        'accuracy': acc,\n",
    "        'precision': precision,\n",
    "        'recall': recall,\n",
    "        'f1': f1,\n",
    "    }"
   ]
  },
  {
   "cell_type": "code",
   "execution_count": 33,
   "metadata": {
    "execution": {
     "iopub.execute_input": "2025-05-20T21:52:35.149909Z",
     "iopub.status.busy": "2025-05-20T21:52:35.149611Z",
     "iopub.status.idle": "2025-05-20T22:03:11.231330Z",
     "shell.execute_reply": "2025-05-20T22:03:11.230751Z",
     "shell.execute_reply.started": "2025-05-20T21:52:35.149887Z"
    },
    "trusted": true
   },
   "outputs": [
    {
     "name": "stdout",
     "output_type": "stream",
     "text": [
      "Starting training...\n"
     ]
    },
    {
     "data": {
      "text/html": [
       "\n",
       "    <div>\n",
       "      \n",
       "      <progress value='2330' max='2330' style='width:300px; height:20px; vertical-align: middle;'></progress>\n",
       "      [2330/2330 10:34, Epoch 9/10]\n",
       "    </div>\n",
       "    <table border=\"1\" class=\"dataframe\">\n",
       "  <thead>\n",
       " <tr style=\"text-align: left;\">\n",
       "      <th>Step</th>\n",
       "      <th>Training Loss</th>\n",
       "      <th>Validation Loss</th>\n",
       "      <th>Accuracy</th>\n",
       "      <th>Precision</th>\n",
       "      <th>Recall</th>\n",
       "      <th>F1</th>\n",
       "    </tr>\n",
       "  </thead>\n",
       "  <tbody>\n",
       "    <tr>\n",
       "      <td>100</td>\n",
       "      <td>0.503400</td>\n",
       "      <td>0.385393</td>\n",
       "      <td>0.838649</td>\n",
       "      <td>0.839477</td>\n",
       "      <td>0.838649</td>\n",
       "      <td>0.838638</td>\n",
       "    </tr>\n",
       "    <tr>\n",
       "      <td>200</td>\n",
       "      <td>0.394400</td>\n",
       "      <td>0.358774</td>\n",
       "      <td>0.838649</td>\n",
       "      <td>0.839786</td>\n",
       "      <td>0.838649</td>\n",
       "      <td>0.838393</td>\n",
       "    </tr>\n",
       "    <tr>\n",
       "      <td>300</td>\n",
       "      <td>0.296900</td>\n",
       "      <td>0.408246</td>\n",
       "      <td>0.849281</td>\n",
       "      <td>0.849333</td>\n",
       "      <td>0.849281</td>\n",
       "      <td>0.849291</td>\n",
       "    </tr>\n",
       "    <tr>\n",
       "      <td>400</td>\n",
       "      <td>0.286000</td>\n",
       "      <td>0.403654</td>\n",
       "      <td>0.845528</td>\n",
       "      <td>0.845960</td>\n",
       "      <td>0.845528</td>\n",
       "      <td>0.845538</td>\n",
       "    </tr>\n",
       "    <tr>\n",
       "      <td>500</td>\n",
       "      <td>0.243200</td>\n",
       "      <td>0.521541</td>\n",
       "      <td>0.841151</td>\n",
       "      <td>0.842620</td>\n",
       "      <td>0.841151</td>\n",
       "      <td>0.840847</td>\n",
       "    </tr>\n",
       "    <tr>\n",
       "      <td>600</td>\n",
       "      <td>0.125400</td>\n",
       "      <td>0.554574</td>\n",
       "      <td>0.833021</td>\n",
       "      <td>0.834851</td>\n",
       "      <td>0.833021</td>\n",
       "      <td>0.832633</td>\n",
       "    </tr>\n",
       "    <tr>\n",
       "      <td>700</td>\n",
       "      <td>0.140000</td>\n",
       "      <td>0.525818</td>\n",
       "      <td>0.842402</td>\n",
       "      <td>0.842478</td>\n",
       "      <td>0.842402</td>\n",
       "      <td>0.842355</td>\n",
       "    </tr>\n",
       "    <tr>\n",
       "      <td>800</td>\n",
       "      <td>0.082500</td>\n",
       "      <td>0.905030</td>\n",
       "      <td>0.820513</td>\n",
       "      <td>0.829661</td>\n",
       "      <td>0.820513</td>\n",
       "      <td>0.818879</td>\n",
       "    </tr>\n",
       "    <tr>\n",
       "      <td>900</td>\n",
       "      <td>0.085900</td>\n",
       "      <td>0.805136</td>\n",
       "      <td>0.844903</td>\n",
       "      <td>0.845366</td>\n",
       "      <td>0.844903</td>\n",
       "      <td>0.844911</td>\n",
       "    </tr>\n",
       "    <tr>\n",
       "      <td>1000</td>\n",
       "      <td>0.059900</td>\n",
       "      <td>0.899595</td>\n",
       "      <td>0.838024</td>\n",
       "      <td>0.838140</td>\n",
       "      <td>0.838024</td>\n",
       "      <td>0.837964</td>\n",
       "    </tr>\n",
       "    <tr>\n",
       "      <td>1100</td>\n",
       "      <td>0.049500</td>\n",
       "      <td>0.837827</td>\n",
       "      <td>0.826767</td>\n",
       "      <td>0.827618</td>\n",
       "      <td>0.826767</td>\n",
       "      <td>0.826534</td>\n",
       "    </tr>\n",
       "    <tr>\n",
       "      <td>1200</td>\n",
       "      <td>0.033300</td>\n",
       "      <td>0.881214</td>\n",
       "      <td>0.848030</td>\n",
       "      <td>0.848463</td>\n",
       "      <td>0.848030</td>\n",
       "      <td>0.848039</td>\n",
       "    </tr>\n",
       "    <tr>\n",
       "      <td>1300</td>\n",
       "      <td>0.019400</td>\n",
       "      <td>1.004524</td>\n",
       "      <td>0.840525</td>\n",
       "      <td>0.841114</td>\n",
       "      <td>0.840525</td>\n",
       "      <td>0.840368</td>\n",
       "    </tr>\n",
       "    <tr>\n",
       "      <td>1400</td>\n",
       "      <td>0.033800</td>\n",
       "      <td>0.963207</td>\n",
       "      <td>0.841776</td>\n",
       "      <td>0.841770</td>\n",
       "      <td>0.841776</td>\n",
       "      <td>0.841765</td>\n",
       "    </tr>\n",
       "    <tr>\n",
       "      <td>1500</td>\n",
       "      <td>0.019400</td>\n",
       "      <td>1.037605</td>\n",
       "      <td>0.836773</td>\n",
       "      <td>0.836811</td>\n",
       "      <td>0.836773</td>\n",
       "      <td>0.836736</td>\n",
       "    </tr>\n",
       "    <tr>\n",
       "      <td>1600</td>\n",
       "      <td>0.021900</td>\n",
       "      <td>1.111165</td>\n",
       "      <td>0.838024</td>\n",
       "      <td>0.838131</td>\n",
       "      <td>0.838024</td>\n",
       "      <td>0.838038</td>\n",
       "    </tr>\n",
       "    <tr>\n",
       "      <td>1700</td>\n",
       "      <td>0.014500</td>\n",
       "      <td>1.134293</td>\n",
       "      <td>0.842402</td>\n",
       "      <td>0.842524</td>\n",
       "      <td>0.842402</td>\n",
       "      <td>0.842416</td>\n",
       "    </tr>\n",
       "    <tr>\n",
       "      <td>1800</td>\n",
       "      <td>0.013800</td>\n",
       "      <td>1.165721</td>\n",
       "      <td>0.837398</td>\n",
       "      <td>0.837427</td>\n",
       "      <td>0.837398</td>\n",
       "      <td>0.837366</td>\n",
       "    </tr>\n",
       "    <tr>\n",
       "      <td>1900</td>\n",
       "      <td>0.015700</td>\n",
       "      <td>1.170732</td>\n",
       "      <td>0.836148</td>\n",
       "      <td>0.836356</td>\n",
       "      <td>0.836148</td>\n",
       "      <td>0.836063</td>\n",
       "    </tr>\n",
       "    <tr>\n",
       "      <td>2000</td>\n",
       "      <td>0.013300</td>\n",
       "      <td>1.187556</td>\n",
       "      <td>0.839275</td>\n",
       "      <td>0.839509</td>\n",
       "      <td>0.839275</td>\n",
       "      <td>0.839186</td>\n",
       "    </tr>\n",
       "    <tr>\n",
       "      <td>2100</td>\n",
       "      <td>0.005500</td>\n",
       "      <td>1.199224</td>\n",
       "      <td>0.838649</td>\n",
       "      <td>0.838652</td>\n",
       "      <td>0.838649</td>\n",
       "      <td>0.838629</td>\n",
       "    </tr>\n",
       "    <tr>\n",
       "      <td>2200</td>\n",
       "      <td>0.003900</td>\n",
       "      <td>1.207892</td>\n",
       "      <td>0.838024</td>\n",
       "      <td>0.838062</td>\n",
       "      <td>0.838024</td>\n",
       "      <td>0.837988</td>\n",
       "    </tr>\n",
       "    <tr>\n",
       "      <td>2300</td>\n",
       "      <td>0.003100</td>\n",
       "      <td>1.217429</td>\n",
       "      <td>0.838024</td>\n",
       "      <td>0.838110</td>\n",
       "      <td>0.838024</td>\n",
       "      <td>0.837972</td>\n",
       "    </tr>\n",
       "  </tbody>\n",
       "</table><p>"
      ],
      "text/plain": [
       "<IPython.core.display.HTML object>"
      ]
     },
     "metadata": {},
     "output_type": "display_data"
    },
    {
     "name": "stdout",
     "output_type": "stream",
     "text": [
      "Training completed.\n"
     ]
    }
   ],
   "source": [
    "### Define training arguments\n",
    "training_args = TrainingArguments(\n",
    "    output_dir='./results',\n",
    "    num_train_epochs=NUM_EPOCHS,\n",
    "    per_device_train_batch_size=BATCH_SIZE,\n",
    "    per_device_eval_batch_size=BATCH_SIZE,\n",
    "    warmup_steps=200,\n",
    "    weight_decay=0.01,\n",
    "    learning_rate=LEARNING_RATE,\n",
    "    logging_dir='./logs',\n",
    "    logging_strategy='steps',\n",
    "    logging_steps=100,\n",
    "    eval_strategy='steps',\n",
    "    save_strategy='steps',\n",
    "    save_total_limit=1,\n",
    "    load_best_model_at_end=True,\n",
    "    metric_for_best_model='f1',\n",
    "    greater_is_better=True,\n",
    "    gradient_accumulation_steps=2,\n",
    "    seed=42,\n",
    "    report_to=\"none\",\n",
    "    disable_tqdm=False,\n",
    ")\n",
    "\n",
    "### Create Trainer instance\n",
    "trainer = Trainer(\n",
    "    model=model,\n",
    "    args=training_args,\n",
    "    train_dataset=train_dataset,\n",
    "    eval_dataset=val_dataset,\n",
    "    compute_metrics=compute_metrics\n",
    ")\n",
    "\n",
    "print(\"Starting training...\")\n",
    "trainer.train()\n",
    "print(\"Training completed.\")"
   ]
  },
  {
   "cell_type": "code",
   "execution_count": 34,
   "metadata": {
    "execution": {
     "iopub.execute_input": "2025-05-20T22:03:11.232256Z",
     "iopub.status.busy": "2025-05-20T22:03:11.232075Z",
     "iopub.status.idle": "2025-05-20T22:03:14.255281Z",
     "shell.execute_reply": "2025-05-20T22:03:14.254685Z",
     "shell.execute_reply.started": "2025-05-20T22:03:11.232241Z"
    },
    "trusted": true
   },
   "outputs": [
    {
     "data": {
      "text/html": [],
      "text/plain": [
       "<IPython.core.display.HTML object>"
      ]
     },
     "metadata": {},
     "output_type": "display_data"
    }
   ],
   "source": [
    "predictions = trainer.predict(test_dataset)\n",
    "preds = predictions.predictions.argmax(-1)\n",
    "labels = predictions.label_ids"
   ]
  },
  {
   "cell_type": "code",
   "execution_count": 35,
   "metadata": {
    "execution": {
     "iopub.execute_input": "2025-05-20T22:03:14.256328Z",
     "iopub.status.busy": "2025-05-20T22:03:14.256054Z",
     "iopub.status.idle": "2025-05-20T22:03:14.543771Z",
     "shell.execute_reply": "2025-05-20T22:03:14.543102Z",
     "shell.execute_reply.started": "2025-05-20T22:03:14.256309Z"
    },
    "trusted": true
   },
   "outputs": [
    {
     "data": {
      "image/png": "[encoded data removed]",
      "text/plain": [
       "<Figure size 640x480 with 1 Axes>"
      ]
     },
     "metadata": {},
     "output_type": "display_data"
    },
    {
     "data": {
      "image/png": "[encoded data removed]",
      "text/plain": [
       "<Figure size 640x480 with 1 Axes>"
      ]
     },
     "metadata": {},
     "output_type": "display_data"
    }
   ],
   "source": [
    "# Extract loss and accuracy from logs\n",
    "train_loss = []\n",
    "eval_loss = []\n",
    "eval_accuracy = []\n",
    "\n",
    "for log in trainer.state.log_history:\n",
    "    if 'loss' in log:\n",
    "        train_loss.append(log['loss'])\n",
    "    if 'eval_loss' in log:\n",
    "        eval_loss.append(log['eval_loss'])\n",
    "    if 'eval_accuracy' in log:\n",
    "        eval_accuracy.append(log['eval_accuracy'])\n",
    "\n",
    "# Plot training loss\n",
    "plt.plot(train_loss, label='Train Loss')\n",
    "plt.xlabel('Logging Steps')\n",
    "plt.ylabel('Loss')\n",
    "plt.title('Training Loss')\n",
    "plt.legend()\n",
    "plt.show()\n",
    "\n",
    "# Plot eval loss and accuracy\n",
    "plt.plot(eval_loss, label='Eval Loss')\n",
    "plt.plot(eval_accuracy, label='Eval Accuracy')\n",
    "plt.xlabel('Evaluation Steps')\n",
    "plt.title('Evaluation Metrics')\n",
    "plt.legend()\n",
    "plt.show()"
   ]
  },
  {
   "cell_type": "markdown",
   "metadata": {},
   "source": [
    "### Evaluation"
   ]
  },
  {
   "cell_type": "code",
   "execution_count": 36,
   "metadata": {
    "execution": {
     "iopub.execute_input": "2025-05-20T22:03:14.544787Z",
     "iopub.status.busy": "2025-05-20T22:03:14.544508Z",
     "iopub.status.idle": "2025-05-20T22:03:21.012350Z",
     "shell.execute_reply": "2025-05-20T22:03:21.011689Z",
     "shell.execute_reply.started": "2025-05-20T22:03:14.544765Z"
    },
    "trusted": true
   },
   "outputs": [
    {
     "name": "stdout",
     "output_type": "stream",
     "text": [
      "\n",
      "Evaluating on validation set...\n"
     ]
    },
    {
     "data": {
      "text/html": [
       "\n",
       "    <div>\n",
       "      \n",
       "      <progress value='200' max='100' style='width:300px; height:20px; vertical-align: middle;'></progress>\n",
       "      [100/100 00:06]\n",
       "    </div>\n",
       "    "
      ],
      "text/plain": [
       "<IPython.core.display.HTML object>"
      ]
     },
     "metadata": {},
     "output_type": "display_data"
    },
    {
     "name": "stdout",
     "output_type": "stream",
     "text": [
      "Validation Accuracy: 0.8386\n",
      "\n",
      "Evaluating on test set...\n",
      "Test Accuracy: 0.8387\n"
     ]
    }
   ],
   "source": [
    "### Manual evaluation since evaluation_strategy isn't available\n",
    "print(\"\\nEvaluating on validation set...\")\n",
    "val_results = trainer.evaluate(eval_dataset=val_dataset)\n",
    "print(f\"Validation Accuracy: {val_results['eval_accuracy']:.4f}\")\n",
    "\n",
    "print(\"\\nEvaluating on test set...\")\n",
    "test_results = trainer.evaluate(eval_dataset=test_dataset)\n",
    "print(f\"Test Accuracy: {test_results['eval_accuracy']:.4f}\")"
   ]
  },
  {
   "cell_type": "markdown",
   "metadata": {},
   "source": [
    "### save model and tokenizer"
   ]
  },
  {
   "cell_type": "code",
   "execution_count": 37,
   "metadata": {
    "execution": {
     "iopub.execute_input": "2025-05-20T22:03:21.013300Z",
     "iopub.status.busy": "2025-05-20T22:03:21.013034Z",
     "iopub.status.idle": "2025-05-20T22:03:21.860192Z",
     "shell.execute_reply": "2025-05-20T22:03:21.859385Z",
     "shell.execute_reply.started": "2025-05-20T22:03:21.013279Z"
    },
    "trusted": true
   },
   "outputs": [
    {
     "name": "stdout",
     "output_type": "stream",
     "text": [
      "\n",
      "Best model saved to ./best_bert_model\n"
     ]
    }
   ],
   "source": [
    "### Save the best model\n",
    "best_model_path = \"./best_bert_model\"\n",
    "trainer.save_model(best_model_path)\n",
    "tokenizer.save_pretrained(best_model_path)\n",
    "print(f\"\\nBest model saved to {best_model_path}\")"
   ]
  },
  {
   "cell_type": "code",
   "execution_count": 38,
   "metadata": {
    "execution": {
     "iopub.execute_input": "2025-05-20T22:03:21.861254Z",
     "iopub.status.busy": "2025-05-20T22:03:21.861016Z",
     "iopub.status.idle": "2025-05-20T22:03:43.594378Z",
     "shell.execute_reply": "2025-05-20T22:03:43.593555Z",
     "shell.execute_reply.started": "2025-05-20T22:03:21.861229Z"
    },
    "trusted": true
   },
   "outputs": [
    {
     "name": "stdout",
     "output_type": "stream",
     "text": [
      "Model folder compressed to best_bert_model.zip\n"
     ]
    }
   ],
   "source": [
    "shutil.make_archive(\"best_bert_model\", 'zip', best_model_path)\n",
    "print(\"Model folder compressed to best_bert_model.zip\")"
   ]
  },
  {
   "cell_type": "markdown",
   "metadata": {},
   "source": [
    "## test model"
   ]
  },
  {
   "cell_type": "code",
   "execution_count": 39,
   "metadata": {
    "execution": {
     "iopub.execute_input": "2025-05-20T22:03:43.595508Z",
     "iopub.status.busy": "2025-05-20T22:03:43.595239Z",
     "iopub.status.idle": "2025-05-20T22:03:44.239359Z",
     "shell.execute_reply": "2025-05-20T22:03:44.238790Z",
     "shell.execute_reply.started": "2025-05-20T22:03:43.595480Z"
    },
    "trusted": true
   },
   "outputs": [],
   "source": [
    "model_path = \"/kaggle/input/bert_model_movies_reviews_sentiment/pytorch/default/1\"\n",
    "\n",
    "model = BertForSequenceClassification.from_pretrained(model_path)\n",
    "tokenizer = BertTokenizer.from_pretrained(model_path)"
   ]
  },
  {
   "cell_type": "code",
   "execution_count": 40,
   "metadata": {
    "execution": {
     "iopub.execute_input": "2025-05-20T22:03:44.240392Z",
     "iopub.status.busy": "2025-05-20T22:03:44.240169Z",
     "iopub.status.idle": "2025-05-20T22:03:45.761464Z",
     "shell.execute_reply": "2025-05-20T22:03:45.760767Z",
     "shell.execute_reply.started": "2025-05-20T22:03:44.240375Z"
    },
    "trusted": true
   },
   "outputs": [],
   "source": [
    "texts = test_texts[:5]\n",
    "encodings = tokenizer(\n",
    "    texts,\n",
    "    padding=True,\n",
    "    truncation=True,\n",
    "    max_length=MAX_LENGTH,\n",
    "    return_tensors=\"pt\"\n",
    ")"
   ]
  },
  {
   "cell_type": "code",
   "execution_count": 41,
   "metadata": {
    "execution": {
     "iopub.execute_input": "2025-05-20T22:03:45.762373Z",
     "iopub.status.busy": "2025-05-20T22:03:45.762151Z",
     "iopub.status.idle": "2025-05-20T22:03:49.274502Z",
     "shell.execute_reply": "2025-05-20T22:03:49.273811Z",
     "shell.execute_reply.started": "2025-05-20T22:03:45.762357Z"
    },
    "trusted": true
   },
   "outputs": [
    {
     "name": "stdout",
     "output_type": "stream",
     "text": [
      "Text: overwrought melodramatic bodiceripper\n",
      "Predicted Label: negative\n",
      "-----\n",
      "Text: lead so unmemorable despite several attempt lengthy dialogue scene one eventually resents inhale gutter romancers secondhand material\n",
      "Predicted Label: negative\n",
      "-----\n",
      "Text: leguizamo jones excellent rest cast uniformly superb\n",
      "Predicted Label: positive\n",
      "-----\n",
      "Text: would hard think recent movie worked hard achieve little fun\n",
      "Predicted Label: negative\n",
      "-----\n",
      "Text: suffocating rapepayback horror show hinge subgenres enabling victim ebullient affection industrialmodel meat freezer\n",
      "Predicted Label: negative\n",
      "-----\n"
     ]
    }
   ],
   "source": [
    "label_map = {0: \"negative\", 1: \"positive\"}\n",
    "\n",
    "model.eval()\n",
    "with torch.no_grad():\n",
    "    outputs = model(**encodings)\n",
    "    logits = outputs.logits\n",
    "    predictions = torch.argmax(logits, dim=-1)\n",
    "\n",
    "# Print text and predicted label decoded\n",
    "for text, pred_label in zip(test_texts, predictions):\n",
    "    print(f\"Text: {text}\")\n",
    "    print(f\"Predicted Label: {label_map[int(pred_label)]}\")\n",
    "    print(\"-----\")"
   ]
  },
  {
   "cell_type": "markdown",
   "metadata": {},
   "source": [
    "# End"
   ]
  },
  {
   "cell_type": "code",
   "execution_count": null,
   "metadata": {
    "trusted": true
   },
   "outputs": [],
   "source": []
  }
 ],
 "metadata": {
  "kaggle": {
   "accelerator": "gpu",
   "dataSources": [
    {
     "datasetId": 7453782,
     "sourceId": 11888592,
     "sourceType": "datasetVersion"
    },
    {
     "modelId": 351291,
     "modelInstanceId": 330453,
     "sourceId": 404261,
     "sourceType": "modelInstanceVersion"
    }
   ],
   "dockerImageVersionId": 31041,
   "isGpuEnabled": true,
   "isInternetEnabled": true,
   "language": "python",
   "sourceType": "notebook"
  },
  "kernelspec": {
   "display_name": "Python 3",
   "language": "python",
   "name": "python3"
  },
  "language_info": {
   "codemirror_mode": {
    "name": "ipython",
    "version": 3
   },
   "file_extension": ".py",
   "mimetype": "text/x-python",
   "name": "python",
   "nbconvert_exporter": "python",
   "pygments_lexer": "ipython3",
   "version": "3.11.9"
  }
 },
 "nbformat": 4,
 "nbformat_minor": 4
}
